{
 "cells": [
  {
   "cell_type": "code",
   "execution_count": 33,
   "id": "923c1ec6",
   "metadata": {},
   "outputs": [
    {
     "name": "stdout",
     "output_type": "stream",
     "text": [
      "数据集前五行：\n",
      "   ID  Sepal.Length  Sepal.Width  Petal.Length  Petal.Width Species\n",
      "0   1           5.1          3.5           1.4          0.2  setosa\n",
      "1   2           4.9          3.0           1.4          0.2  setosa\n",
      "2   3           4.7          3.2           1.3          0.2  setosa\n",
      "3   4           4.6          3.1           1.5          0.2  setosa\n",
      "4   5           5.0          3.6           1.4          0.2  setosa\n",
      "\n",
      "标签编码示例：\n",
      "[0 0 0 0 0 0 0 0 0 0]\n",
      "\n",
      "训练集大小: (105, 5)\n",
      "测试集大小: (45, 5)\n"
     ]
    }
   ],
   "source": [
    "# 导入必要的库\n",
    "import pandas as pd\n",
    "from sklearn.model_selection import train_test_split\n",
    "from sklearn.preprocessing import LabelEncoder, StandardScaler\n",
    "\n",
    "# 读取 Iris 数据集\n",
    "iris = pd.read_csv('./Iris.csv')\n",
    "\n",
    "# 查看数据的前几行\n",
    "print(\"数据集前五行：\")\n",
    "print(iris.head())\n",
    "\n",
    "# 提取特征和标签\n",
    "# 假设最后一列是 'Species'\n",
    "X = iris.iloc[:, :-1]  # 特征：除最后一列外的所有列\n",
    "y = iris.iloc[:, -1]   # 标签：最后一列\n",
    "\n",
    "# 将字符串标签转换为数值型标签\n",
    "le = LabelEncoder()\n",
    "y_encoded = le.fit_transform(y)\n",
    "\n",
    "# 查看标签编码\n",
    "print(\"\\n标签编码示例：\")\n",
    "print(y_encoded[:10])\n",
    "\n",
    "# 划分训练集和测试集（70% 训练，30% 测试）\n",
    "X_train, X_test, y_train, y_test = train_test_split(\n",
    "    X, y_encoded, test_size=0.3, random_state=42, stratify=y_encoded\n",
    ")\n",
    "\n",
    "print(f\"\\n训练集大小: {X_train.shape}\")\n",
    "print(f\"测试集大小: {X_test.shape}\")\n"
   ]
  },
  {
   "cell_type": "code",
   "execution_count": null,
   "id": "ec1c8d5f",
   "metadata": {},
   "outputs": [],
   "source": []
  },
  {
   "cell_type": "code",
   "execution_count": 34,
   "id": "7dcc024b",
   "metadata": {},
   "outputs": [
    {
     "name": "stdout",
     "output_type": "stream",
     "text": [
      "\n",
      "标准化后的训练数据前五行：\n",
      "[[ 0.53726272 -0.90045861 -1.22024754 -0.4419858  -0.13661044]\n",
      " [-0.15718848  0.38036614 -1.87955796  0.40282929  0.38029394]\n",
      " [-1.29145876 -0.90045861  1.63676428 -1.2868009  -1.17041921]\n",
      " [ 1.57893951  1.07899781  0.31814344  1.19132338  1.41410271]\n",
      " [ 0.56041109 -0.20182693 -0.56093712  0.17754527  0.12184175]]\n"
     ]
    }
   ],
   "source": [
    "# 导入标准化处理库\n",
    "from sklearn.preprocessing import StandardScaler\n",
    "\n",
    "# 创建标准化对象\n",
    "scaler = StandardScaler()\n",
    "\n",
    "# 对训练集进行拟合和变换\n",
    "X_train_scaled = scaler.fit_transform(X_train)\n",
    "\n",
    "# 对测试集进行变换\n",
    "X_test_scaled = scaler.transform(X_test)\n",
    "\n",
    "# 查看标准化后的数据\n",
    "print(\"\\n标准化后的训练数据前五行：\")\n",
    "print(X_train_scaled[:5])\n"
   ]
  },
  {
   "cell_type": "code",
   "execution_count": 35,
   "id": "546c5a35",
   "metadata": {},
   "outputs": [
    {
     "name": "stdout",
     "output_type": "stream",
     "text": [
      "\n",
      "线性回归模型的均方误差 (MSE): 0.00\n",
      "线性回归模型的决定系数 (R²): 1.00\n"
     ]
    }
   ],
   "source": [
    "# 导入线性回归模型\n",
    "from sklearn.linear_model import LinearRegression\n",
    "from sklearn.metrics import mean_squared_error, r2_score\n",
    "\n",
    "# 假设我们预测 'petal_width'\n",
    "X_lr = X_train_scaled  # 使用所有特征\n",
    "y_lr = y_train  # 实际上，这是分类标签，通常线性回归用于回归任务\n",
    "\n",
    "# 由于 y_train 是分类标签，我们需要选择一个数值型目标\n",
    "# 这里我们选择 'petal_width' 作为目标\n",
    "y_lr = X_train['Petal.Width']\n",
    "\n",
    "# 重新划分特征和目标\n",
    "X_lr = X_train_scaled\n",
    "y_lr = X_train['Petal.Width']\n",
    "\n",
    "# 创建线性回归模型\n",
    "lr_model = LinearRegression()\n",
    "\n",
    "# 训练模型\n",
    "lr_model.fit(X_lr, y_lr)\n",
    "\n",
    "# 预测\n",
    "y_pred_lr = lr_model.predict(X_test_scaled)\n",
    "\n",
    "# 评估模型\n",
    "mse = mean_squared_error(X_test['Petal.Width'], y_pred_lr)\n",
    "r2 = r2_score(X_test['Petal.Width'], y_pred_lr)\n",
    "\n",
    "print(f\"\\n线性回归模型的均方误差 (MSE): {mse:.2f}\")\n",
    "print(f\"线性回归模型的决定系数 (R²): {r2:.2f}\")\n"
   ]
  },
  {
   "cell_type": "code",
   "execution_count": 36,
   "id": "41a52091",
   "metadata": {},
   "outputs": [
    {
     "name": "stdout",
     "output_type": "stream",
     "text": [
      "Ridge 回归的均方误差 (MSE): 0.04621134785546967\n",
      "Lasso 回归的均方误差 (MSE): 0.05175534674071506\n"
     ]
    }
   ],
   "source": [
    "import pandas as pd\n",
    "from sklearn.model_selection import train_test_split\n",
    "from sklearn.linear_model import Ridge, Lasso\n",
    "from sklearn.metrics import mean_squared_error\n",
    "\n",
    "# 假设你的数据集已经读取\n",
    "data = iris\n",
    "\n",
    "# 选择特征和目标值\n",
    "X = data[['Sepal.Length', 'Sepal.Width', 'Petal.Length']]  # 特征\n",
    "y = data['Petal.Width']  # 目标值\n",
    "\n",
    "# 分割训练集和测试集\n",
    "X_train_lr, X_test_lr, y_lr, y_test_lr = train_test_split(X, y, test_size=0.2, random_state=42)\n",
    "\n",
    "# 设置 alpha 值\n",
    "alpha = 0.1  # alpha 是正则化强度，越大正则化效果越强\n",
    "\n",
    "# 训练 Ridge 回归模型\n",
    "ridge_model = Ridge(alpha=alpha)\n",
    "ridge_model.fit(X_train_lr, y_lr)\n",
    "\n",
    "# 预测 Ridge 模型\n",
    "y_pred_ridge = ridge_model.predict(X_test_lr)\n",
    "\n",
    "# 计算 Ridge 模型的均方误差\n",
    "mse_ridge = mean_squared_error(y_test_lr, y_pred_ridge)\n",
    "print(f\"Ridge 回归的均方误差 (MSE): {mse_ridge}\")\n",
    "\n",
    "# 训练 Lasso 回归模型\n",
    "lasso_model = Lasso(alpha=alpha)\n",
    "lasso_model.fit(X_train_lr, y_lr)\n",
    "\n",
    "# 预测 Lasso 模型\n",
    "y_pred_lasso = lasso_model.predict(X_test_lr)\n",
    "\n",
    "# 计算 Lasso 模型的均方误差\n",
    "mse_lasso = mean_squared_error(y_test_lr, y_pred_lasso)\n",
    "print(f\"Lasso 回归的均方误差 (MSE): {mse_lasso}\")\n"
   ]
  },
  {
   "cell_type": "code",
   "execution_count": 37,
   "id": "73c673c1",
   "metadata": {},
   "outputs": [
    {
     "name": "stdout",
     "output_type": "stream",
     "text": [
      "\n",
      "决策树分类器的准确率: 1.00\n",
      "决策树分类器的混淆矩阵：\n",
      "[[15  0  0]\n",
      " [ 0 15  0]\n",
      " [ 0  0 15]]\n",
      "决策树分类器的分类报告：\n",
      "              precision    recall  f1-score   support\n",
      "\n",
      "      setosa       1.00      1.00      1.00        15\n",
      "  versicolor       1.00      1.00      1.00        15\n",
      "   virginica       1.00      1.00      1.00        15\n",
      "\n",
      "    accuracy                           1.00        45\n",
      "   macro avg       1.00      1.00      1.00        45\n",
      "weighted avg       1.00      1.00      1.00        45\n",
      "\n"
     ]
    }
   ],
   "source": [
    "# 导入决策树分类器\n",
    "from sklearn.tree import DecisionTreeClassifier\n",
    "from sklearn.metrics import accuracy_score, confusion_matrix, classification_report\n",
    "\n",
    "# 创建决策树模型\n",
    "dt_model = DecisionTreeClassifier(random_state=42)\n",
    "\n",
    "# 训练模型\n",
    "dt_model.fit(X_train_scaled, y_train)\n",
    "\n",
    "# 预测测试集\n",
    "y_pred_dt = dt_model.predict(X_test_scaled)\n",
    "\n",
    "# 评估模型\n",
    "accuracy_dt = accuracy_score(y_test, y_pred_dt)\n",
    "cm_dt = confusion_matrix(y_test, y_pred_dt)\n",
    "report_dt = classification_report(y_test, y_pred_dt, target_names=le.classes_)\n",
    "\n",
    "print(f\"\\n决策树分类器的准确率: {accuracy_dt:.2f}\")\n",
    "print(\"决策树分类器的混淆矩阵：\")\n",
    "print(cm_dt)\n",
    "print(\"决策树分类器的分类报告：\")\n",
    "print(report_dt)\n"
   ]
  },
  {
   "cell_type": "code",
   "execution_count": 38,
   "id": "5f62bdc0",
   "metadata": {},
   "outputs": [
    {
     "name": "stdout",
     "output_type": "stream",
     "text": [
      "\n",
      "决策树最佳参数: {'max_depth': None, 'min_samples_leaf': 1, 'min_samples_split': 2}\n",
      "调参后决策树分类器的准确率: 1.00\n"
     ]
    }
   ],
   "source": [
    "# 使用 GridSearchCV 进行超参数调优\n",
    "from sklearn.model_selection import GridSearchCV\n",
    "\n",
    "# 定义参数网格\n",
    "param_grid = {\n",
    "    'max_depth': [None, 2, 4, 6, 8],\n",
    "    'min_samples_split': [2, 5, 10],\n",
    "    'min_samples_leaf': [1, 2, 4]\n",
    "}\n",
    "\n",
    "# 创建 GridSearchCV 对象\n",
    "grid_search_dt = GridSearchCV(\n",
    "    estimator=DecisionTreeClassifier(random_state=42),\n",
    "    param_grid=param_grid,\n",
    "    cv=5,\n",
    "    scoring='accuracy',\n",
    "    n_jobs=-1\n",
    ")\n",
    "\n",
    "# 执行网格搜索\n",
    "grid_search_dt.fit(X_train_scaled, y_train)\n",
    "\n",
    "# 输出最佳参数\n",
    "print(f\"\\n决策树最佳参数: {grid_search_dt.best_params_}\")\n",
    "\n",
    "# 使用最佳参数进行预测\n",
    "y_pred_dt_best = grid_search_dt.best_estimator_.predict(X_test_scaled)\n",
    "\n",
    "# 评估模型\n",
    "accuracy_dt_best = accuracy_score(y_test, y_pred_dt_best)\n",
    "print(f\"调参后决策树分类器的准确率: {accuracy_dt_best:.2f}\")\n"
   ]
  },
  {
   "cell_type": "markdown",
   "id": "46637534",
   "metadata": {},
   "source": [
    " 随机森林分类器：RandomForestClassifier\n",
    "随机森林通过构建多个决策树来提高分类性能和稳定性。"
   ]
  },
  {
   "cell_type": "code",
   "execution_count": 39,
   "id": "e66f0ce7",
   "metadata": {},
   "outputs": [
    {
     "name": "stdout",
     "output_type": "stream",
     "text": [
      "\n",
      "随机森林分类器的准确率: 1.00\n",
      "随机森林分类器的混淆矩阵：\n",
      "[[15  0  0]\n",
      " [ 0 15  0]\n",
      " [ 0  0 15]]\n",
      "随机森林分类器的分类报告：\n",
      "              precision    recall  f1-score   support\n",
      "\n",
      "      setosa       1.00      1.00      1.00        15\n",
      "  versicolor       1.00      1.00      1.00        15\n",
      "   virginica       1.00      1.00      1.00        15\n",
      "\n",
      "    accuracy                           1.00        45\n",
      "   macro avg       1.00      1.00      1.00        45\n",
      "weighted avg       1.00      1.00      1.00        45\n",
      "\n"
     ]
    }
   ],
   "source": [
    "# 导入随机森林分类器\n",
    "from sklearn.ensemble import RandomForestClassifier\n",
    "\n",
    "# 创建随机森林分类器\n",
    "rf_model = RandomForestClassifier(random_state=42)\n",
    "\n",
    "# 训练模型\n",
    "rf_model.fit(X_train_scaled, y_train)\n",
    "\n",
    "# 预测测试集\n",
    "y_pred_rf = rf_model.predict(X_test_scaled)\n",
    "\n",
    "# 评估模型\n",
    "accuracy_rf = accuracy_score(y_test, y_pred_rf)\n",
    "cm_rf = confusion_matrix(y_test, y_pred_rf)\n",
    "report_rf = classification_report(y_test, y_pred_rf, target_names=le.classes_)\n",
    "\n",
    "print(f\"\\n随机森林分类器的准确率: {accuracy_rf:.2f}\")\n",
    "print(\"随机森林分类器的混淆矩阵：\")\n",
    "print(cm_rf)\n",
    "print(\"随机森林分类器的分类报告：\")\n",
    "print(report_rf)\n"
   ]
  },
  {
   "cell_type": "code",
   "execution_count": 40,
   "id": "d5cc91b9",
   "metadata": {},
   "outputs": [
    {
     "name": "stdout",
     "output_type": "stream",
     "text": [
      "\n",
      "随机森林最佳参数: {'max_depth': None, 'min_samples_leaf': 1, 'min_samples_split': 2, 'n_estimators': 100}\n",
      "调参后随机森林分类器的准确率: 1.00\n"
     ]
    }
   ],
   "source": [
    "# 使用 GridSearchCV 进行超参数调优\n",
    "param_grid_rf = {\n",
    "    'n_estimators': [100, 200, 300],\n",
    "    'max_depth': [None, 4, 6, 8],\n",
    "    'min_samples_split': [2, 5, 10],\n",
    "    'min_samples_leaf': [1, 2, 4]\n",
    "}\n",
    "\n",
    "grid_search_rf = GridSearchCV(\n",
    "    estimator=RandomForestClassifier(random_state=42),\n",
    "    param_grid=param_grid_rf,\n",
    "    cv=5,\n",
    "    scoring='accuracy',\n",
    "    n_jobs=-1\n",
    ")\n",
    "\n",
    "# 执行网格搜索\n",
    "grid_search_rf.fit(X_train_scaled, y_train)\n",
    "\n",
    "# 输出最佳参数\n",
    "print(f\"\\n随机森林最佳参数: {grid_search_rf.best_params_}\")\n",
    "\n",
    "# 使用最佳参数进行预测\n",
    "y_pred_rf_best = grid_search_rf.best_estimator_.predict(X_test_scaled)\n",
    "\n",
    "# 评估模型\n",
    "accuracy_rf_best = accuracy_score(y_test, y_pred_rf_best)\n",
    "print(f\"调参后随机森林分类器的准确率: {accuracy_rf_best:.2f}\")\n"
   ]
  },
  {
   "cell_type": "code",
   "execution_count": 41,
   "id": "82e4b03c",
   "metadata": {},
   "outputs": [
    {
     "name": "stdout",
     "output_type": "stream",
     "text": [
      "\n",
      "支持向量机分类器的准确率: 1.00\n",
      "支持向量机分类器的混淆矩阵：\n",
      "[[15  0  0]\n",
      " [ 0 15  0]\n",
      " [ 0  0 15]]\n",
      "支持向量机分类器的分类报告：\n",
      "              precision    recall  f1-score   support\n",
      "\n",
      "      setosa       1.00      1.00      1.00        15\n",
      "  versicolor       1.00      1.00      1.00        15\n",
      "   virginica       1.00      1.00      1.00        15\n",
      "\n",
      "    accuracy                           1.00        45\n",
      "   macro avg       1.00      1.00      1.00        45\n",
      "weighted avg       1.00      1.00      1.00        45\n",
      "\n"
     ]
    }
   ],
   "source": [
    "# 导入支持向量机分类器\n",
    "from sklearn.svm import SVC\n",
    "\n",
    "# 创建支持向量机分类器\n",
    "svc_model = SVC(random_state=42)\n",
    "\n",
    "# 训练模型\n",
    "svc_model.fit(X_train_scaled, y_train)\n",
    "\n",
    "# 预测测试集\n",
    "y_pred_svc = svc_model.predict(X_test_scaled)\n",
    "\n",
    "# 评估模型\n",
    "accuracy_svc = accuracy_score(y_test, y_pred_svc)\n",
    "cm_svc = confusion_matrix(y_test, y_pred_svc)\n",
    "report_svc = classification_report(y_test, y_pred_svc, target_names=le.classes_)\n",
    "\n",
    "print(f\"\\n支持向量机分类器的准确率: {accuracy_svc:.2f}\")\n",
    "print(\"支持向量机分类器的混淆矩阵：\")\n",
    "print(cm_svc)\n",
    "print(\"支持向量机分类器的分类报告：\")\n",
    "print(report_svc)\n"
   ]
  },
  {
   "cell_type": "markdown",
   "id": "3abf5635",
   "metadata": {},
   "source": [
    "调参细节：\n",
    "\n",
    "C：惩罚参数，控制误分类的惩罚强度。较大的 C 值会尝试更好地分类训练数据，但可能导致过拟合。\n",
    "kernel：核函数类型，如 'linear'、'rbf'、'poly' 等，不同核函数适用于不同的数据分布。\n",
    "gamma：核函数的系数，影响决策边界的灵活性。"
   ]
  },
  {
   "cell_type": "code",
   "execution_count": 42,
   "id": "0be3d63f",
   "metadata": {},
   "outputs": [
    {
     "name": "stdout",
     "output_type": "stream",
     "text": [
      "\n",
      "支持向量机最佳参数: {'C': 0.1, 'gamma': 'scale', 'kernel': 'linear'}\n",
      "调参后支持向量机分类器的准确率: 0.98\n"
     ]
    }
   ],
   "source": [
    "# 使用 GridSearchCV 进行超参数调优\n",
    "param_grid_svc = {\n",
    "    'C': [0.1, 1, 10, 100],\n",
    "    'kernel': ['linear', 'rbf', 'poly'],\n",
    "    'gamma': ['scale', 'auto']\n",
    "}\n",
    "\n",
    "grid_search_svc = GridSearchCV(\n",
    "    estimator=SVC(random_state=42),\n",
    "    param_grid=param_grid_svc,\n",
    "    cv=5,\n",
    "    scoring='accuracy',\n",
    "    n_jobs=-1\n",
    ")\n",
    "\n",
    "# 执行网格搜索\n",
    "grid_search_svc.fit(X_train_scaled, y_train)\n",
    "\n",
    "# 输出最佳参数\n",
    "print(f\"\\n支持向量机最佳参数: {grid_search_svc.best_params_}\")\n",
    "\n",
    "# 使用最佳参数进行预测\n",
    "y_pred_svc_best = grid_search_svc.best_estimator_.predict(X_test_scaled)\n",
    "\n",
    "# 评估模型\n",
    "accuracy_svc_best = accuracy_score(y_test, y_pred_svc_best)\n",
    "print(f\"调参后支持向量机分类器的准确率: {accuracy_svc_best:.2f}\")\n"
   ]
  },
  {
   "cell_type": "code",
   "execution_count": 43,
   "id": "5c904b64",
   "metadata": {},
   "outputs": [
    {
     "name": "stdout",
     "output_type": "stream",
     "text": [
      "\n",
      "随机森林调参后模型的准确率: 1.00\n",
      "混淆矩阵：\n",
      "[[15  0  0]\n",
      " [ 0 15  0]\n",
      " [ 0  0 15]]\n",
      "分类报告：\n",
      "              precision    recall  f1-score   support\n",
      "\n",
      "      setosa       1.00      1.00      1.00        15\n",
      "  versicolor       1.00      1.00      1.00        15\n",
      "   virginica       1.00      1.00      1.00        15\n",
      "\n",
      "    accuracy                           1.00        45\n",
      "   macro avg       1.00      1.00      1.00        45\n",
      "weighted avg       1.00      1.00      1.00        45\n",
      "\n"
     ]
    }
   ],
   "source": [
    "# 导入评估方法\n",
    "from sklearn.metrics import accuracy_score, confusion_matrix, classification_report\n",
    "\n",
    "# 计算准确率\n",
    "accuracy = accuracy_score(y_test, y_pred_rf_best)\n",
    "print(f\"\\n随机森林调参后模型的准确率: {accuracy:.2f}\")\n",
    "\n",
    "# 打印混淆矩阵\n",
    "cm = confusion_matrix(y_test, y_pred_rf_best)\n",
    "print(\"混淆矩阵：\")\n",
    "print(cm)\n",
    "\n",
    "# 打印分类报告\n",
    "report = classification_report(y_test, y_pred_rf_best, target_names=le.classes_)\n",
    "print(\"分类报告：\")\n",
    "print(report)\n"
   ]
  },
  {
   "cell_type": "markdown",
   "id": "e4ba1854",
   "metadata": {},
   "source": [
    "准确率 (accuracy_score)：分类正确的样本比例。\n",
    "混淆矩阵 (confusion_matrix)：展示真实标签与预测标签的对应关系。\n",
    "分类报告 (classification_report)：包含精准率、召回率和 F1 分数等详细指标。\n"
   ]
  },
  {
   "cell_type": "code",
   "execution_count": 44,
   "id": "54feaa28",
   "metadata": {},
   "outputs": [
    {
     "name": "stdout",
     "output_type": "stream",
     "text": [
      "\n",
      "每个主成分解释的方差比例: [0.74945324 0.18712459]\n",
      "累计解释的方差比例: [0.74945324 0.93657783]\n"
     ]
    },
    {
     "data": {
      "image/png": "[encoded data removed]",
      "text/plain": [
       "<Figure size 576x432 with 1 Axes>"
      ]
     },
     "metadata": {
      "needs_background": "light"
     },
     "output_type": "display_data"
    }
   ],
   "source": [
    "# 导入 PCA\n",
    "from sklearn.decomposition import PCA\n",
    "\n",
    "# 创建 PCA 对象，降到2个主成分\n",
    "pca = PCA(n_components=2)\n",
    "\n",
    "# 拟合 PCA 并转换数据\n",
    "X_pca = pca.fit_transform(X_train_scaled)\n",
    "\n",
    "# 查看主成分解释的方差比例\n",
    "print(f\"\\n每个主成分解释的方差比例: {pca.explained_variance_ratio_}\")\n",
    "print(f\"累计解释的方差比例: {pca.explained_variance_ratio_.cumsum()}\")\n",
    "\n",
    "# 可视化主成分\n",
    "import matplotlib.pyplot as plt\n",
    "import seaborn as sns\n",
    "\n",
    "# 创建一个 DataFrame 存储 PCA 结果\n",
    "pca_df = pd.DataFrame(data=X_pca, columns=['PC1', 'PC2'])\n",
    "pca_df['Species'] = y_train\n",
    "\n",
    "plt.figure(figsize=(8, 6))\n",
    "sns.scatterplot(x='PC1', y='PC2', hue='Species', data=pca_df, palette='viridis')\n",
    "plt.title('PCA of Iris Dataset')\n",
    "plt.xlabel('Principal Component 1')\n",
    "plt.ylabel('Principal Component 2')\n",
    "plt.legend(title='Species')\n",
    "plt.show()\n"
   ]
  },
  {
   "cell_type": "markdown",
   "id": "e4622c62",
   "metadata": {},
   "source": [
    "调参细节：\n",
    "\n",
    "n_components：选择主成分的数量，通常基于累计解释的方差比例。\n",
    "说明：\n",
    "\n",
    "PCA 可以帮助减少特征数量，同时保留数据中大部分的变异性。\n",
    "可视化 PCA 结果有助于理解数据的分布和类别分离情况。"
   ]
  },
  {
   "cell_type": "code",
   "execution_count": 45,
   "id": "96a3c3e2",
   "metadata": {},
   "outputs": [
    {
     "name": "stdout",
     "output_type": "stream",
     "text": [
      "\n",
      "K-Means 调整兰德指数 (ARI): 0.67\n"
     ]
    }
   ],
   "source": [
    "# 导入 K-Means\n",
    "from sklearn.cluster import KMeans\n",
    "\n",
    "# 创建 K-Means 对象，设置为3个簇\n",
    "kmeans = KMeans(n_clusters=3, random_state=42)\n",
    "\n",
    "# 训练模型\n",
    "kmeans.fit(X_train_scaled)\n",
    "\n",
    "# 预测簇标签\n",
    "y_kmeans = kmeans.predict(X_test_scaled)\n",
    "\n",
    "# 评估聚类效果（使用调整兰德指数）\n",
    "from sklearn.metrics import adjusted_rand_score\n",
    "\n",
    "ari = adjusted_rand_score(y_test, y_kmeans)\n",
    "print(f\"\\nK-Means 调整兰德指数 (ARI): {ari:.2f}\")\n"
   ]
  },
  {
   "cell_type": "code",
   "execution_count": 46,
   "id": "2b090ab3",
   "metadata": {},
   "outputs": [
    {
     "name": "stderr",
     "output_type": "stream",
     "text": [
      "D:\\Anaconda3\\envs\\mathjian\\lib\\site-packages\\IPython\\core\\pylabtools.py:151: UserWarning: Glyph 32920 (\\N{CJK UNIFIED IDEOGRAPH-8098}) missing from current font.\n",
      "  fig.canvas.print_figure(bytes_io, **kw)\n",
      "D:\\Anaconda3\\envs\\mathjian\\lib\\site-packages\\IPython\\core\\pylabtools.py:151: UserWarning: Glyph 37096 (\\N{CJK UNIFIED IDEOGRAPH-90E8}) missing from current font.\n",
      "  fig.canvas.print_figure(bytes_io, **kw)\n",
      "D:\\Anaconda3\\envs\\mathjian\\lib\\site-packages\\IPython\\core\\pylabtools.py:151: UserWarning: Glyph 27861 (\\N{CJK UNIFIED IDEOGRAPH-6CD5}) missing from current font.\n",
      "  fig.canvas.print_figure(bytes_io, **kw)\n",
      "D:\\Anaconda3\\envs\\mathjian\\lib\\site-packages\\IPython\\core\\pylabtools.py:151: UserWarning: Glyph 21017 (\\N{CJK UNIFIED IDEOGRAPH-5219}) missing from current font.\n",
      "  fig.canvas.print_figure(bytes_io, **kw)\n",
      "D:\\Anaconda3\\envs\\mathjian\\lib\\site-packages\\IPython\\core\\pylabtools.py:151: UserWarning: Glyph 30830 (\\N{CJK UNIFIED IDEOGRAPH-786E}) missing from current font.\n",
      "  fig.canvas.print_figure(bytes_io, **kw)\n",
      "D:\\Anaconda3\\envs\\mathjian\\lib\\site-packages\\IPython\\core\\pylabtools.py:151: UserWarning: Glyph 23450 (\\N{CJK UNIFIED IDEOGRAPH-5B9A}) missing from current font.\n",
      "  fig.canvas.print_figure(bytes_io, **kw)\n",
      "D:\\Anaconda3\\envs\\mathjian\\lib\\site-packages\\IPython\\core\\pylabtools.py:151: UserWarning: Glyph 26368 (\\N{CJK UNIFIED IDEOGRAPH-6700}) missing from current font.\n",
      "  fig.canvas.print_figure(bytes_io, **kw)\n",
      "D:\\Anaconda3\\envs\\mathjian\\lib\\site-packages\\IPython\\core\\pylabtools.py:151: UserWarning: Glyph 20339 (\\N{CJK UNIFIED IDEOGRAPH-4F73}) missing from current font.\n",
      "  fig.canvas.print_figure(bytes_io, **kw)\n",
      "D:\\Anaconda3\\envs\\mathjian\\lib\\site-packages\\IPython\\core\\pylabtools.py:151: UserWarning: Glyph 31751 (\\N{CJK UNIFIED IDEOGRAPH-7C07}) missing from current font.\n",
      "  fig.canvas.print_figure(bytes_io, **kw)\n",
      "D:\\Anaconda3\\envs\\mathjian\\lib\\site-packages\\IPython\\core\\pylabtools.py:151: UserWarning: Glyph 25968 (\\N{CJK UNIFIED IDEOGRAPH-6570}) missing from current font.\n",
      "  fig.canvas.print_figure(bytes_io, **kw)\n",
      "D:\\Anaconda3\\envs\\mathjian\\lib\\site-packages\\IPython\\core\\pylabtools.py:151: UserWarning: Glyph 30340 (\\N{CJK UNIFIED IDEOGRAPH-7684}) missing from current font.\n",
      "  fig.canvas.print_figure(bytes_io, **kw)\n",
      "D:\\Anaconda3\\envs\\mathjian\\lib\\site-packages\\IPython\\core\\pylabtools.py:151: UserWarning: Glyph 37327 (\\N{CJK UNIFIED IDEOGRAPH-91CF}) missing from current font.\n",
      "  fig.canvas.print_figure(bytes_io, **kw)\n",
      "D:\\Anaconda3\\envs\\mathjian\\lib\\site-packages\\IPython\\core\\pylabtools.py:151: UserWarning: Glyph 24815 (\\N{CJK UNIFIED IDEOGRAPH-60EF}) missing from current font.\n",
      "  fig.canvas.print_figure(bytes_io, **kw)\n",
      "D:\\Anaconda3\\envs\\mathjian\\lib\\site-packages\\IPython\\core\\pylabtools.py:151: UserWarning: Glyph 24615 (\\N{CJK UNIFIED IDEOGRAPH-6027}) missing from current font.\n",
      "  fig.canvas.print_figure(bytes_io, **kw)\n"
     ]
    },
    {
     "data": {
      "image/png": "[encoded data removed]",
      "text/plain": [
       "<Figure size 576x432 with 1 Axes>"
      ]
     },
     "metadata": {
      "needs_background": "light"
     },
     "output_type": "display_data"
    }
   ],
   "source": [
    "# 导入库\n",
    "import matplotlib.pyplot as plt\n",
    "\n",
    "# 计算不同簇数的惯性（簇内误差平方和）\n",
    "inertia = []\n",
    "k_range = range(1, 11)\n",
    "for k in k_range:\n",
    "    kmeans = KMeans(n_clusters=k, random_state=42)\n",
    "    kmeans.fit(X_train_scaled)\n",
    "    inertia.append(kmeans.inertia_)\n",
    "\n",
    "# 绘制肘部图\n",
    "plt.figure(figsize=(8, 6))\n",
    "plt.plot(k_range, inertia, 'bo-')\n",
    "plt.xlabel('簇的数量 (k)')\n",
    "plt.ylabel('惯性 (Inertia)')\n",
    "plt.title('肘部法则确定最佳簇数')\n",
    "plt.show()\n"
   ]
  },
  {
   "cell_type": "code",
   "execution_count": 54,
   "id": "673c4d50",
   "metadata": {},
   "outputs": [
    {
     "name": "stdout",
     "output_type": "stream",
     "text": [
      "\n",
      "K-Means 调整兰德指数 (ARI): 0.62\n"
     ]
    },
    {
     "data": {
      "image/png": "[encoded data removed]",
      "text/plain": [
       "<Figure size 576x432 with 1 Axes>"
      ]
     },
     "metadata": {
      "needs_background": "light"
     },
     "output_type": "display_data"
    },
    {
     "data": {
      "image/png": "[encoded data removed]",
      "text/plain": [
       "<Figure size 576x432 with 1 Axes>"
      ]
     },
     "metadata": {
      "needs_background": "light"
     },
     "output_type": "display_data"
    }
   ],
   "source": [
    "# 导入必要的库\n",
    "import pandas as pd\n",
    "import numpy as np\n",
    "import matplotlib.pyplot as plt\n",
    "from sklearn.cluster import KMeans\n",
    "from sklearn.preprocessing import StandardScaler\n",
    "from sklearn.metrics import adjusted_rand_score\n",
    "from sklearn.datasets import load_iris\n",
    "\n",
    "# 加载数据（以鸢尾花数据集为例）\n",
    "data = load_iris()\n",
    "X = data.data\n",
    "y = data.target\n",
    "\n",
    "# 标准化特征\n",
    "scaler = StandardScaler()\n",
    "X_scaled = scaler.fit_transform(X)\n",
    "\n",
    "# 创建 K-Means 对象，设置为3个簇\n",
    "kmeans = KMeans(n_clusters=3, random_state=42)\n",
    "\n",
    "# 训练模型\n",
    "kmeans.fit(X_scaled)\n",
    "\n",
    "# 预测簇标签\n",
    "y_kmeans = kmeans.predict(X_scaled)\n",
    "\n",
    "# 评估聚类效果（使用调整兰德指数）\n",
    "ari = adjusted_rand_score(y, y_kmeans)\n",
    "print(f\"\\nK-Means 调整兰德指数 (ARI): {ari:.2f}\")\n",
    "\n",
    "# 确定最佳簇数示例（肘部法则）\n",
    "inertia = []\n",
    "k_range = range(1, 11)\n",
    "for k in k_range:\n",
    "    kmeans = KMeans(n_clusters=k, random_state=42)\n",
    "    kmeans.fit(X_scaled)\n",
    "    inertia.append(kmeans.inertia_)\n",
    "\n",
    "# 绘制肘部图\n",
    "plt.figure(figsize=(8, 6))\n",
    "plt.plot(k_range, inertia, 'bo-')\n",
    "plt.xlabel('簇的数量 (k)')\n",
    "plt.ylabel('惯性 (Inertia)')\n",
    "plt.title('肘部法则确定最佳簇数')\n",
    "plt.grid()\n",
    "plt.show()\n",
    "\n",
    "# 可视化聚类结果\n",
    "plt.figure(figsize=(8, 6))\n",
    "plt.scatter(X_scaled[:, 0], X_scaled[:, 1], c=y_kmeans, cmap='viridis', marker='o')\n",
    "centers = kmeans.cluster_centers_\n",
    "plt.scatter(centers[:, 0], centers[:, 1], c='red', s=200, alpha=0.75, marker='X', label='簇中心')\n",
    "plt.title('K-Means 聚类结果')\n",
    "plt.xlabel('特征 1')\n",
    "plt.ylabel('特征 2')\n",
    "plt.legend()\n",
    "plt.grid()\n",
    "plt.show()\n"
   ]
  },
  {
   "cell_type": "code",
   "execution_count": 24,
   "id": "1167a5bd",
   "metadata": {},
   "outputs": [
    {
     "name": "stdout",
     "output_type": "stream",
     "text": [
      "\n",
      "随机森林分类器的交叉验证准确率: [1. 1. 1. 1. 1.]\n",
      "平均交叉验证准确率: 1.00\n"
     ]
    }
   ],
   "source": [
    "# 导入交叉验证方法\n",
    "from sklearn.model_selection import cross_val_score\n",
    "\n",
    "# 创建随机森林分类器\n",
    "rf_cv = RandomForestClassifier(n_estimators=200, max_depth=6, min_samples_split=2, min_samples_leaf=1, random_state=42)\n",
    "\n",
    "# 进行 5 折交叉验证\n",
    "cv_scores = cross_val_score(rf_cv, X_train_scaled, y_train, cv=5, scoring='accuracy')\n",
    "\n",
    "print(f\"\\n随机森林分类器的交叉验证准确率: {cv_scores}\")\n",
    "print(f\"平均交叉验证准确率: {cv_scores.mean():.2f}\")\n"
   ]
  },
  {
   "cell_type": "code",
   "execution_count": 25,
   "id": "f3185c31",
   "metadata": {},
   "outputs": [
    {
     "name": "stdout",
     "output_type": "stream",
     "text": [
      "\n",
      "模型已保存为 'random_forest_model.joblib'\n",
      "加载的随机森林分类器的准确率: 1.00\n"
     ]
    }
   ],
   "source": [
    "\"\"\"\n",
    "以随机森林为例，展示以下\n",
    "保存和加载模型的过程\n",
    "使用 joblib 或 pickle 保存训练好的模型，以便以后使用。\n",
    "\"\"\"\n",
    "\n",
    "# 导入 joblib\n",
    "import joblib\n",
    "\n",
    "# 保存模型\n",
    "joblib.dump(grid_search_rf.best_estimator_, 'random_forest_model.joblib')\n",
    "print(\"\\n模型已保存为 'random_forest_model.joblib'\")\n",
    "\n",
    "# 加载模型\n",
    "loaded_rf = joblib.load('random_forest_model.joblib')\n",
    "\n",
    "# 使用加载的模型进行预测\n",
    "y_pred_loaded_rf = loaded_rf.predict(X_test_scaled)\n",
    "\n",
    "# 评估\n",
    "accuracy_loaded_rf = accuracy_score(y_test, y_pred_loaded_rf)\n",
    "print(f\"加载的随机森林分类器的准确率: {accuracy_loaded_rf:.2f}\")\n"
   ]
  },
  {
   "cell_type": "code",
   "execution_count": 47,
   "id": "c9aae318",
   "metadata": {},
   "outputs": [
    {
     "name": "stdout",
     "output_type": "stream",
     "text": [
      "特征列名: Index(['Sepal.Length', 'Sepal.Width', 'Petal.Length', 'Petal.Width'], dtype='object')\n"
     ]
    }
   ],
   "source": [
    "import pandas as pd\n",
    "from sklearn.model_selection import train_test_split\n",
    "\n",
    "# 假设我们有一个 DataFrame iris_df，包含了鸢尾花数据\n",
    "iris_df = pd.read_csv('iris.csv')  # 读取数据集\n",
    "\n",
    "# 定义特征和目标变量\n",
    "X = iris_df[['Sepal.Length', 'Sepal.Width', 'Petal.Length', 'Petal.Width']]  # 特征\n",
    "y = iris_df['Species']  # 目标变量\n",
    "\n",
    "# 划分训练集和测试集\n",
    "X_train, X_test, y_train, y_test = train_test_split(X, y, test_size=0.2, random_state=42)\n",
    "\n",
    "# 打印特征列名\n",
    "print(\"特征列名:\", X.columns)\n"
   ]
  },
  {
   "cell_type": "code",
   "execution_count": 49,
   "id": "c6c988fa",
   "metadata": {},
   "outputs": [
    {
     "name": "stdout",
     "output_type": "stream",
     "text": [
      "最佳参数: {'max_depth': None, 'n_estimators': 50}\n"
     ]
    }
   ],
   "source": [
    "from sklearn.ensemble import RandomForestClassifier\n",
    "from sklearn.model_selection import GridSearchCV\n",
    "\n",
    "\n",
    "model = RandomForestClassifier(random_state=42)\n",
    "param_grid = {'n_estimators': [50, 100], 'max_depth': [None, 10, 20]}\n",
    "\n",
    "# 进行网格搜索\n",
    "grid_search_rf = GridSearchCV(estimator=model, param_grid=param_grid, scoring='accuracy')\n",
    "grid_search_rf.fit(X_train, y_train)\n",
    "\n",
    "# 确认模型训练完毕\n",
    "print(\"最佳参数:\", grid_search_rf.best_params_)\n"
   ]
  },
  {
   "cell_type": "code",
   "execution_count": 50,
   "id": "f45d1779",
   "metadata": {},
   "outputs": [
    {
     "name": "stdout",
     "output_type": "stream",
     "text": [
      "最佳参数: {'max_depth': None, 'n_estimators': 50}\n"
     ]
    }
   ],
   "source": [
    "from sklearn.ensemble import RandomForestClassifier\n",
    "from sklearn.model_selection import GridSearchCV\n",
    "\n",
    "# 假设你在这里定义了模型和参数网格\n",
    "model = RandomForestClassifier(random_state=42)\n",
    "param_grid = {'n_estimators': [50, 100], 'max_depth': [None, 10, 20]}\n",
    "\n",
    "# 进行网格搜索\n",
    "grid_search_rf = GridSearchCV(estimator=model, param_grid=param_grid, scoring='accuracy')\n",
    "grid_search_rf.fit(X_train, y_train)\n",
    "\n",
    "# 确认模型训练完毕\n",
    "print(\"最佳参数:\", grid_search_rf.best_params_)\n"
   ]
  },
  {
   "cell_type": "code",
   "execution_count": 52,
   "id": "d87f6122",
   "metadata": {},
   "outputs": [
    {
     "data": {
      "image/png": "[encoded data removed]",
      "text/plain": [
       "<Figure size 576x432 with 1 Axes>"
      ]
     },
     "metadata": {
      "needs_background": "light"
     },
     "output_type": "display_data"
    }
   ],
   "source": [
    "import pandas as pd\n",
    "import matplotlib.pyplot as plt\n",
    "import seaborn as sns\n",
    "from sklearn.model_selection import train_test_split, GridSearchCV\n",
    "from sklearn.ensemble import RandomForestClassifier\n",
    "\n",
    "# 读取数据集\n",
    "iris_df = pd.read_csv('iris.csv')\n",
    "\n",
    "# 定义特征和目标变量\n",
    "X = iris_df[['Sepal.Length', 'Sepal.Width', 'Petal.Length', 'Petal.Width']]\n",
    "y = iris_df['Species']\n",
    "\n",
    "# 划分训练集和测试集\n",
    "X_train, X_test, y_train, y_test = train_test_split(X, y, test_size=0.2, random_state=42)\n",
    "\n",
    "# 创建随机森林模型并进行网格搜索\n",
    "model = RandomForestClassifier(random_state=42)\n",
    "param_grid = {'n_estimators': [50, 100], 'max_depth': [None, 10, 20]}\n",
    "grid_search_rf = GridSearchCV(estimator=model, param_grid=param_grid, scoring='accuracy')\n",
    "grid_search_rf.fit(X_train, y_train)\n",
    "\n",
    "# 获取特征重要性\n",
    "importances = grid_search_rf.best_estimator_.feature_importances_\n",
    "feature_names = X.columns\n",
    "\n",
    "# 检查特征名称和重要性数组的长度是否一致\n",
    "if len(feature_names) != len(importances):\n",
    "    raise ValueError(f\"Length mismatch: {len(feature_names)} features vs {len(importances)} importances\")\n",
    "\n",
    "# 创建 DataFrame 存储特征重要性\n",
    "feat_imp_df = pd.DataFrame({'Feature': feature_names, 'Importance': importances})\n",
    "feat_imp_df = feat_imp_df.sort_values(by='Importance', ascending=False)\n",
    "\n",
    "# 可视化特征重要性\n",
    "plt.figure(figsize=(8, 6))\n",
    "sns.barplot(x='Importance', y='Feature', data=feat_imp_df, palette='viridis')\n",
    "plt.title('Feature Importance in Random Forest Classifier')\n",
    "plt.xlabel('Importance')\n",
    "plt.ylabel('Feature')\n",
    "plt.show()\n"
   ]
  },
  {
   "cell_type": "code",
   "execution_count": 55,
   "id": "8c93d941",
   "metadata": {},
   "outputs": [],
   "source": [
    "\n",
    "import matplotlib.pyplot as plt\n",
    "import matplotlib\n",
    "import seaborn as sns\n",
    "\n",
    "# 设置字体为 SimHei，解决中文乱码问题\n",
    "matplotlib.rcParams['font.family'] = 'sans-serif'\n",
    "matplotlib.rcParams['font.sans-serif'] = ['SimHei']  # 设置字体为 SimHei\n",
    "matplotlib.rcParams['axes.unicode_minus'] = False  # 解决负号'-'显示为方块的问题\n",
    "\n",
    "\n"
   ]
  },
  {
   "cell_type": "code",
   "execution_count": null,
   "id": "92abc2da",
   "metadata": {},
   "outputs": [],
   "source": []
  }
 ],
 "metadata": {
  "kernelspec": {
   "display_name": "mathjian",
   "language": "python",
   "name": "mathjian"
  },
  "language_info": {
   "codemirror_mode": {
    "name": "ipython",
    "version": 3
   },
   "file_extension": ".py",
   "mimetype": "text/x-python",
   "name": "python",
   "nbconvert_exporter": "python",
   "pygments_lexer": "ipython3",
   "version": "3.7.13"
  }
 },
 "nbformat": 4,
 "nbformat_minor": 5
}
